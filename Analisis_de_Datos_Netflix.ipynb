{
  "nbformat": 4,
  "nbformat_minor": 0,
  "metadata": {
    "colab": {
      "provenance": [],
      "authorship_tag": "ABX9TyNkVdgwBj1VTQFwTH8d3gq7",
      "include_colab_link": true
    },
    "kernelspec": {
      "name": "python3",
      "display_name": "Python 3"
    },
    "language_info": {
      "name": "python"
    }
  },
  "cells": [
    {
      "cell_type": "markdown",
      "metadata": {
        "id": "view-in-github",
        "colab_type": "text"
      },
      "source": [
        "<a href=\"https://colab.research.google.com/github/jazmin9930/Proyecto-Lenguajes-de-programacion/blob/main/Analisis_de_Datos_Netflix.ipynb\" target=\"_parent\"><img src=\"https://colab.research.google.com/assets/colab-badge.svg\" alt=\"Open In Colab\"/></a>"
      ]
    },
    {
      "cell_type": "markdown",
      "source": [
        "1. IMPORTACION Y CARGA DE *DATOS*"
      ],
      "metadata": {
        "id": "8zB7jMfFzsuX"
      }
    },
    {
      "cell_type": "code",
      "source": [
        "from google.colab import files\n",
        "datos = files.upload()"
      ],
      "metadata": {
        "colab": {
          "base_uri": "https://localhost:8080/",
          "height": 73
        },
        "id": "Ry9tvxT0zxFo",
        "outputId": "3200e8bc-898f-46ce-c899-30944724afe8"
      },
      "execution_count": 171,
      "outputs": [
        {
          "output_type": "display_data",
          "data": {
            "text/plain": [
              "<IPython.core.display.HTML object>"
            ],
            "text/html": [
              "\n",
              "     <input type=\"file\" id=\"files-c3d2ffa5-0dd7-4902-9b19-e5d719d99bec\" name=\"files[]\" multiple disabled\n",
              "        style=\"border:none\" />\n",
              "     <output id=\"result-c3d2ffa5-0dd7-4902-9b19-e5d719d99bec\">\n",
              "      Upload widget is only available when the cell has been executed in the\n",
              "      current browser session. Please rerun this cell to enable.\n",
              "      </output>\n",
              "      <script>// Copyright 2017 Google LLC\n",
              "//\n",
              "// Licensed under the Apache License, Version 2.0 (the \"License\");\n",
              "// you may not use this file except in compliance with the License.\n",
              "// You may obtain a copy of the License at\n",
              "//\n",
              "//      http://www.apache.org/licenses/LICENSE-2.0\n",
              "//\n",
              "// Unless required by applicable law or agreed to in writing, software\n",
              "// distributed under the License is distributed on an \"AS IS\" BASIS,\n",
              "// WITHOUT WARRANTIES OR CONDITIONS OF ANY KIND, either express or implied.\n",
              "// See the License for the specific language governing permissions and\n",
              "// limitations under the License.\n",
              "\n",
              "/**\n",
              " * @fileoverview Helpers for google.colab Python module.\n",
              " */\n",
              "(function(scope) {\n",
              "function span(text, styleAttributes = {}) {\n",
              "  const element = document.createElement('span');\n",
              "  element.textContent = text;\n",
              "  for (const key of Object.keys(styleAttributes)) {\n",
              "    element.style[key] = styleAttributes[key];\n",
              "  }\n",
              "  return element;\n",
              "}\n",
              "\n",
              "// Max number of bytes which will be uploaded at a time.\n",
              "const MAX_PAYLOAD_SIZE = 100 * 1024;\n",
              "\n",
              "function _uploadFiles(inputId, outputId) {\n",
              "  const steps = uploadFilesStep(inputId, outputId);\n",
              "  const outputElement = document.getElementById(outputId);\n",
              "  // Cache steps on the outputElement to make it available for the next call\n",
              "  // to uploadFilesContinue from Python.\n",
              "  outputElement.steps = steps;\n",
              "\n",
              "  return _uploadFilesContinue(outputId);\n",
              "}\n",
              "\n",
              "// This is roughly an async generator (not supported in the browser yet),\n",
              "// where there are multiple asynchronous steps and the Python side is going\n",
              "// to poll for completion of each step.\n",
              "// This uses a Promise to block the python side on completion of each step,\n",
              "// then passes the result of the previous step as the input to the next step.\n",
              "function _uploadFilesContinue(outputId) {\n",
              "  const outputElement = document.getElementById(outputId);\n",
              "  const steps = outputElement.steps;\n",
              "\n",
              "  const next = steps.next(outputElement.lastPromiseValue);\n",
              "  return Promise.resolve(next.value.promise).then((value) => {\n",
              "    // Cache the last promise value to make it available to the next\n",
              "    // step of the generator.\n",
              "    outputElement.lastPromiseValue = value;\n",
              "    return next.value.response;\n",
              "  });\n",
              "}\n",
              "\n",
              "/**\n",
              " * Generator function which is called between each async step of the upload\n",
              " * process.\n",
              " * @param {string} inputId Element ID of the input file picker element.\n",
              " * @param {string} outputId Element ID of the output display.\n",
              " * @return {!Iterable<!Object>} Iterable of next steps.\n",
              " */\n",
              "function* uploadFilesStep(inputId, outputId) {\n",
              "  const inputElement = document.getElementById(inputId);\n",
              "  inputElement.disabled = false;\n",
              "\n",
              "  const outputElement = document.getElementById(outputId);\n",
              "  outputElement.innerHTML = '';\n",
              "\n",
              "  const pickedPromise = new Promise((resolve) => {\n",
              "    inputElement.addEventListener('change', (e) => {\n",
              "      resolve(e.target.files);\n",
              "    });\n",
              "  });\n",
              "\n",
              "  const cancel = document.createElement('button');\n",
              "  inputElement.parentElement.appendChild(cancel);\n",
              "  cancel.textContent = 'Cancel upload';\n",
              "  const cancelPromise = new Promise((resolve) => {\n",
              "    cancel.onclick = () => {\n",
              "      resolve(null);\n",
              "    };\n",
              "  });\n",
              "\n",
              "  // Wait for the user to pick the files.\n",
              "  const files = yield {\n",
              "    promise: Promise.race([pickedPromise, cancelPromise]),\n",
              "    response: {\n",
              "      action: 'starting',\n",
              "    }\n",
              "  };\n",
              "\n",
              "  cancel.remove();\n",
              "\n",
              "  // Disable the input element since further picks are not allowed.\n",
              "  inputElement.disabled = true;\n",
              "\n",
              "  if (!files) {\n",
              "    return {\n",
              "      response: {\n",
              "        action: 'complete',\n",
              "      }\n",
              "    };\n",
              "  }\n",
              "\n",
              "  for (const file of files) {\n",
              "    const li = document.createElement('li');\n",
              "    li.append(span(file.name, {fontWeight: 'bold'}));\n",
              "    li.append(span(\n",
              "        `(${file.type || 'n/a'}) - ${file.size} bytes, ` +\n",
              "        `last modified: ${\n",
              "            file.lastModifiedDate ? file.lastModifiedDate.toLocaleDateString() :\n",
              "                                    'n/a'} - `));\n",
              "    const percent = span('0% done');\n",
              "    li.appendChild(percent);\n",
              "\n",
              "    outputElement.appendChild(li);\n",
              "\n",
              "    const fileDataPromise = new Promise((resolve) => {\n",
              "      const reader = new FileReader();\n",
              "      reader.onload = (e) => {\n",
              "        resolve(e.target.result);\n",
              "      };\n",
              "      reader.readAsArrayBuffer(file);\n",
              "    });\n",
              "    // Wait for the data to be ready.\n",
              "    let fileData = yield {\n",
              "      promise: fileDataPromise,\n",
              "      response: {\n",
              "        action: 'continue',\n",
              "      }\n",
              "    };\n",
              "\n",
              "    // Use a chunked sending to avoid message size limits. See b/62115660.\n",
              "    let position = 0;\n",
              "    do {\n",
              "      const length = Math.min(fileData.byteLength - position, MAX_PAYLOAD_SIZE);\n",
              "      const chunk = new Uint8Array(fileData, position, length);\n",
              "      position += length;\n",
              "\n",
              "      const base64 = btoa(String.fromCharCode.apply(null, chunk));\n",
              "      yield {\n",
              "        response: {\n",
              "          action: 'append',\n",
              "          file: file.name,\n",
              "          data: base64,\n",
              "        },\n",
              "      };\n",
              "\n",
              "      let percentDone = fileData.byteLength === 0 ?\n",
              "          100 :\n",
              "          Math.round((position / fileData.byteLength) * 100);\n",
              "      percent.textContent = `${percentDone}% done`;\n",
              "\n",
              "    } while (position < fileData.byteLength);\n",
              "  }\n",
              "\n",
              "  // All done.\n",
              "  yield {\n",
              "    response: {\n",
              "      action: 'complete',\n",
              "    }\n",
              "  };\n",
              "}\n",
              "\n",
              "scope.google = scope.google || {};\n",
              "scope.google.colab = scope.google.colab || {};\n",
              "scope.google.colab._files = {\n",
              "  _uploadFiles,\n",
              "  _uploadFilesContinue,\n",
              "};\n",
              "})(self);\n",
              "</script> "
            ]
          },
          "metadata": {}
        },
        {
          "output_type": "stream",
          "name": "stdout",
          "text": [
            "Saving NetflixViewingHistory.csv to NetflixViewingHistory (2).csv\n"
          ]
        }
      ]
    },
    {
      "cell_type": "code",
      "source": [
        "import io\n",
        "import pandas as pd\n",
        "\n",
        "df = pd.read_csv(io.BytesIO(datos['NetflixViewingHistory (2).csv']))"
      ],
      "metadata": {
        "id": "WI8kHJ2vz-Tb"
      },
      "execution_count": 197,
      "outputs": []
    },
    {
      "cell_type": "markdown",
      "source": [
        "2. ANALISIS EXPOLARATORIO"
      ],
      "metadata": {
        "id": "pSfL4g990b4e"
      }
    },
    {
      "cell_type": "code",
      "source": [
        "df.shape"
      ],
      "metadata": {
        "id": "0tZeoHEz0f1z"
      },
      "execution_count": null,
      "outputs": []
    },
    {
      "cell_type": "code",
      "source": [
        "df.info()"
      ],
      "metadata": {
        "id": "rqhECPWl0ljW"
      },
      "execution_count": null,
      "outputs": []
    },
    {
      "cell_type": "code",
      "source": [
        "df.head(50)"
      ],
      "metadata": {
        "id": "x4sRye5827P8"
      },
      "execution_count": null,
      "outputs": []
    },
    {
      "cell_type": "code",
      "source": [
        "separacion_lista = df.Title.str.split(pat = ':', expand=False).to_frame()\n",
        "separacion_lista"
      ],
      "metadata": {
        "id": "npS5jBHY3ttP"
      },
      "execution_count": null,
      "outputs": []
    },
    {
      "cell_type": "code",
      "source": [
        "separacion_lista['num_partes'] = separacion_lista.Title.apply(len)\n",
        "separacion_lista"
      ],
      "metadata": {
        "id": "Ygpn452Q5uu8"
      },
      "execution_count": null,
      "outputs": []
    },
    {
      "cell_type": "code",
      "source": [
        "separacion_lista.num_partes.value_counts()"
      ],
      "metadata": {
        "id": "xRpttzdI514E"
      },
      "execution_count": null,
      "outputs": []
    },
    {
      "cell_type": "markdown",
      "source": [
        "Se analizaran los titulos por numero de partes a ver si hay algun patron"
      ],
      "metadata": {
        "id": "AZV2Wxax56zE"
      }
    },
    {
      "cell_type": "code",
      "source": [
        "separacion_lista.loc[separacion_lista.num_partes == 1].head(10)"
      ],
      "metadata": {
        "id": "nN0WIF8I6C8-"
      },
      "execution_count": null,
      "outputs": []
    },
    {
      "cell_type": "code",
      "source": [
        "separacion_lista.loc[separacion_lista.num_partes == 2].head(10)"
      ],
      "metadata": {
        "id": "ueKU77ID6L7Y"
      },
      "execution_count": null,
      "outputs": []
    },
    {
      "cell_type": "code",
      "source": [
        "separacion_lista.loc[separacion_lista.num_partes == 3].head(10)"
      ],
      "metadata": {
        "id": "z52t6s8w6Pvd"
      },
      "execution_count": null,
      "outputs": []
    },
    {
      "cell_type": "code",
      "source": [
        "separacion_lista.loc[separacion_lista.num_partes == 4].head(10)"
      ],
      "metadata": {
        "id": "PFLlOuoY6THh"
      },
      "execution_count": null,
      "outputs": []
    },
    {
      "cell_type": "code",
      "source": [
        "separacion_lista.loc[separacion_lista.num_partes == 5].head(10)"
      ],
      "metadata": {
        "id": "vtRZQF43MoaT"
      },
      "execution_count": null,
      "outputs": []
    },
    {
      "cell_type": "markdown",
      "source": [
        "3. CREACION DE VARIABLES"
      ],
      "metadata": {
        "id": "BpkdLZgt6fjW"
      }
    },
    {
      "cell_type": "markdown",
      "source": [
        "Nuestro dataset original tiene muy pocas variables, pero con un poco de trabajo podemos generar nuevas variables. Este proceso se llama \"feature extraction\"."
      ],
      "metadata": {
        "id": "fwKUF0jv7Q0Q"
      }
    },
    {
      "cell_type": "code",
      "source": [
        "import numpy as np\n",
        "\n",
        "separacion_lista['tipo'] = np.where(separacion_lista.num_partes <3, 'pelicula', 'serie')\n",
        "separacion_lista"
      ],
      "metadata": {
        "id": "352DpiZE7Rbr"
      },
      "execution_count": null,
      "outputs": []
    },
    {
      "cell_type": "code",
      "source": [
        "df = pd.concat([df,separacion_lista['tipo']], axis = 1)\n",
        "df"
      ],
      "metadata": {
        "id": "ltamt6b47Xli"
      },
      "execution_count": null,
      "outputs": []
    },
    {
      "cell_type": "markdown",
      "source": [
        "Vamos a dividir los títulos en sus diferentes niveles y generar así nuevas variables"
      ],
      "metadata": {
        "id": "RdDwgobL7cTz"
      }
    },
    {
      "cell_type": "code",
      "source": [
        "separacion_cols = df.Title.str.split(pat = ':', expand=True)\n",
        "separacion_cols"
      ],
      "metadata": {
        "id": "huUF1Raz7c92"
      },
      "execution_count": null,
      "outputs": []
    },
    {
      "cell_type": "code",
      "source": [
        "separacion_cols.columns = ['nivel1','nivel2','nivel3','nivel4']\n",
        "separacion_cols"
      ],
      "metadata": {
        "id": "T57jRR5Q7hSj"
      },
      "execution_count": null,
      "outputs": []
    },
    {
      "cell_type": "code",
      "source": [
        "df = pd.concat([df,separacion_cols], axis = 1)\n",
        "df"
      ],
      "metadata": {
        "id": "sO4qPOSE7y33"
      },
      "execution_count": null,
      "outputs": []
    },
    {
      "cell_type": "markdown",
      "source": [
        "3.2 VARIABLES DERIVADAS DE LAS FECHAS"
      ],
      "metadata": {
        "id": "079GOweP74nW"
      }
    },
    {
      "cell_type": "markdown",
      "source": [
        "Podemos extraer los diferentes compontentes de una fecha para generar nuevas variables."
      ],
      "metadata": {
        "id": "fsUUEbcE8A8R"
      }
    },
    {
      "cell_type": "code",
      "source": [
        "df['fecha'] = pd.to_datetime(df.Date)\n",
        "df.drop(columns = 'Date',inplace = True)\n",
        "df"
      ],
      "metadata": {
        "id": "ckgNnA6Q8Bjg"
      },
      "execution_count": null,
      "outputs": []
    },
    {
      "cell_type": "code",
      "source": [
        "df.set_index('fecha', inplace = True)\n",
        "df"
      ],
      "metadata": {
        "id": "MyIZ3ilY8Oqf"
      },
      "execution_count": null,
      "outputs": []
    },
    {
      "cell_type": "markdown",
      "source": [
        "Creamos una función para extraer los componentes."
      ],
      "metadata": {
        "id": "eQrtVH3v8SOq"
      }
    },
    {
      "cell_type": "code",
      "source": [
        "def atributos_fechas(data):\n",
        "  data['año'] = data.index.year\n",
        "  data['mes'] = data.index.month_name()\n",
        "  data['dia_mes'] = data.index.day\n",
        "  data['dia_semana'] = data.index.day_name()\n",
        "  return(data)"
      ],
      "metadata": {
        "id": "woNorxDo8THA"
      },
      "execution_count": 216,
      "outputs": []
    },
    {
      "cell_type": "code",
      "source": [
        "atributos_fechas(df)"
      ],
      "metadata": {
        "id": "QS5Zhu-c8Wzq"
      },
      "execution_count": null,
      "outputs": []
    },
    {
      "cell_type": "markdown",
      "source": [
        "4. ANALISIS"
      ],
      "metadata": {
        "id": "mQYz5ijlTVJs"
      }
    },
    {
      "cell_type": "markdown",
      "source": [
        "¿Cuanto tiempo hace que tengo contratado Netflix?"
      ],
      "metadata": {
        "id": "erHn1HJe8a4D"
      }
    },
    {
      "cell_type": "code",
      "source": [
        "from datetime import date\n",
        "\n",
        "hoy = pd.Timestamp(date.today())\n",
        "\n",
        "primer_dia = df.index.min()\n",
        "\n",
        "tiempo = hoy - primer_dia\n",
        "\n",
        "print(f'Jazmin, llevas usando Netflix {tiempo.days} dias')"
      ],
      "metadata": {
        "id": "dH7LhT1C8e0h"
      },
      "execution_count": null,
      "outputs": []
    },
    {
      "cell_type": "markdown",
      "source": [
        "¿Cuanto me he gastado en Netflix hasta ahora?"
      ],
      "metadata": {
        "id": "yae6O-EM8ouS"
      }
    },
    {
      "cell_type": "code",
      "source": [
        "coste_mensual = 12\n",
        "\n",
        "gasto = tiempo.days / 30 * coste_mensual\n",
        "\n",
        "print(f'Jazmin, hasta ahora te has gastado {gasto} euros en Netflix')"
      ],
      "metadata": {
        "id": "nFrRgI_98pIu"
      },
      "execution_count": null,
      "outputs": []
    },
    {
      "cell_type": "markdown",
      "metadata": {
        "id": "hFcZfYmc5haQ"
      },
      "source": [
        "¿Cuanto tiempo de mi vida le dedico cada año a Netflix?"
      ]
    },
    {
      "cell_type": "code",
      "source": [
        "\n",
        "media_min_serie = 45\n",
        "media_min_peli = 100\n",
        "consumo = df.loc[df.año < 2023].groupby('tipo').Title.count()\n",
        "\n",
        "minutos_pelis_año = consumo['pelicula'] * media_min_peli / 3\n",
        "\n",
        "minutos_series_año = consumo['serie'] * media_min_serie / 3\n",
        "\n",
        "dias_pelis_año = minutos_pelis_año / 60 / 24\n",
        "\n",
        "dias_series_año = minutos_series_año / 60 / 24\n",
        "\n",
        "print(f'Jazmin, al año dedicas {round(dias_series_año)} días de tu vida a ver series y {round(dias_pelis_año)} días de tu vida a ver películas')"
      ],
      "metadata": {
        "id": "P9SsOfNSOhIe",
        "colab": {
          "base_uri": "https://localhost:8080/"
        },
        "outputId": "7330427b-7d51-41b8-a72f-1e274932bf83"
      },
      "execution_count": 221,
      "outputs": [
        {
          "output_type": "stream",
          "name": "stdout",
          "text": [
            "Jazmin, al año dedicas 4 días de tu vida a ver series y 5 días de tu vida a ver películas\n"
          ]
        }
      ]
    },
    {
      "cell_type": "markdown",
      "source": [
        "¿Cuales son las 10 series de las que he visto más capítulos?"
      ],
      "metadata": {
        "id": "e8Kq7Rc3UHYG"
      }
    },
    {
      "cell_type": "code",
      "source": [
        "df.loc[df.tipo == 'serie'].nivel1.value_counts(ascending = True).tail(10).plot.barh(cmap = 'Pastel1');"
      ],
      "metadata": {
        "colab": {
          "base_uri": "https://localhost:8080/",
          "height": 430
        },
        "id": "Q5Q7LnoXUH9E",
        "outputId": "985a0209-795f-4875-ccb5-0b5dc3eb565b"
      },
      "execution_count": 225,
      "outputs": [
        {
          "output_type": "display_data",
          "data": {
            "text/plain": [
              "<Figure size 640x480 with 1 Axes>"
            ],
            "image/png": "[encoded data removed]"
          },
          "metadata": {}
        }
      ]
    },
    {
      "cell_type": "markdown",
      "source": [
        "Podemos buscar titulos que contengas ciertas pablas como:"
      ],
      "metadata": {
        "id": "rFt-GltjUUmr"
      }
    },
    {
      "cell_type": "code",
      "source": [
        "df[df.Title.str.contains('the')]"
      ],
      "metadata": {
        "colab": {
          "base_uri": "https://localhost:8080/",
          "height": 319
        },
        "id": "63neHH8yUZLF",
        "outputId": "8f01fddd-237d-402a-c79f-1e39c3187127"
      },
      "execution_count": 229,
      "outputs": [
        {
          "output_type": "execute_result",
          "data": {
            "text/plain": [
              "                                                        Title      tipo  \\\n",
              "fecha                                                                     \n",
              "2023-04-07                   Royalteen: La princesa Margrethe  pelicula   \n",
              "2023-02-26  La primera vez: Las penas de amor del joven We...  pelicula   \n",
              "2021-10-28   Locke & Key: Temporada 1: Bienvenidos a Matheson     serie   \n",
              "2021-03-09                       Another Miss Oh: Episodio 13  pelicula   \n",
              "\n",
              "                     nivel1                                nivel2  \\\n",
              "fecha                                                               \n",
              "2023-04-07        Royalteen                 La princesa Margrethe   \n",
              "2023-02-26   La primera vez   Las penas de amor del joven Werther   \n",
              "2021-10-28      Locke & Key                           Temporada 1   \n",
              "2021-03-09  Another Miss Oh                           Episodio 13   \n",
              "\n",
              "                             nivel3 nivel4   año       mes  dia_mes dia_semana  \n",
              "fecha                                                                           \n",
              "2023-04-07                     None   None  2023     April        7     Friday  \n",
              "2023-02-26                     None   None  2023  February       26     Sunday  \n",
              "2021-10-28   Bienvenidos a Matheson   None  2021   October       28   Thursday  \n",
              "2021-03-09                     None   None  2021     March        9    Tuesday  "
            ],
            "text/html": [
              "\n",
              "\n",
              "  <div id=\"df-933add1a-3afd-4b3b-8d95-3acf045e47b6\">\n",
              "    <div class=\"colab-df-container\">\n",
              "      <div>\n",
              "<style scoped>\n",
              "    .dataframe tbody tr th:only-of-type {\n",
              "        vertical-align: middle;\n",
              "    }\n",
              "\n",
              "    .dataframe tbody tr th {\n",
              "        vertical-align: top;\n",
              "    }\n",
              "\n",
              "    .dataframe thead th {\n",
              "        text-align: right;\n",
              "    }\n",
              "</style>\n",
              "<table border=\"1\" class=\"dataframe\">\n",
              "  <thead>\n",
              "    <tr style=\"text-align: right;\">\n",
              "      <th></th>\n",
              "      <th>Title</th>\n",
              "      <th>tipo</th>\n",
              "      <th>nivel1</th>\n",
              "      <th>nivel2</th>\n",
              "      <th>nivel3</th>\n",
              "      <th>nivel4</th>\n",
              "      <th>año</th>\n",
              "      <th>mes</th>\n",
              "      <th>dia_mes</th>\n",
              "      <th>dia_semana</th>\n",
              "    </tr>\n",
              "    <tr>\n",
              "      <th>fecha</th>\n",
              "      <th></th>\n",
              "      <th></th>\n",
              "      <th></th>\n",
              "      <th></th>\n",
              "      <th></th>\n",
              "      <th></th>\n",
              "      <th></th>\n",
              "      <th></th>\n",
              "      <th></th>\n",
              "      <th></th>\n",
              "    </tr>\n",
              "  </thead>\n",
              "  <tbody>\n",
              "    <tr>\n",
              "      <th>2023-04-07</th>\n",
              "      <td>Royalteen: La princesa Margrethe</td>\n",
              "      <td>pelicula</td>\n",
              "      <td>Royalteen</td>\n",
              "      <td>La princesa Margrethe</td>\n",
              "      <td>None</td>\n",
              "      <td>None</td>\n",
              "      <td>2023</td>\n",
              "      <td>April</td>\n",
              "      <td>7</td>\n",
              "      <td>Friday</td>\n",
              "    </tr>\n",
              "    <tr>\n",
              "      <th>2023-02-26</th>\n",
              "      <td>La primera vez: Las penas de amor del joven We...</td>\n",
              "      <td>pelicula</td>\n",
              "      <td>La primera vez</td>\n",
              "      <td>Las penas de amor del joven Werther</td>\n",
              "      <td>None</td>\n",
              "      <td>None</td>\n",
              "      <td>2023</td>\n",
              "      <td>February</td>\n",
              "      <td>26</td>\n",
              "      <td>Sunday</td>\n",
              "    </tr>\n",
              "    <tr>\n",
              "      <th>2021-10-28</th>\n",
              "      <td>Locke &amp; Key: Temporada 1: Bienvenidos a Matheson</td>\n",
              "      <td>serie</td>\n",
              "      <td>Locke &amp; Key</td>\n",
              "      <td>Temporada 1</td>\n",
              "      <td>Bienvenidos a Matheson</td>\n",
              "      <td>None</td>\n",
              "      <td>2021</td>\n",
              "      <td>October</td>\n",
              "      <td>28</td>\n",
              "      <td>Thursday</td>\n",
              "    </tr>\n",
              "    <tr>\n",
              "      <th>2021-03-09</th>\n",
              "      <td>Another Miss Oh: Episodio 13</td>\n",
              "      <td>pelicula</td>\n",
              "      <td>Another Miss Oh</td>\n",
              "      <td>Episodio 13</td>\n",
              "      <td>None</td>\n",
              "      <td>None</td>\n",
              "      <td>2021</td>\n",
              "      <td>March</td>\n",
              "      <td>9</td>\n",
              "      <td>Tuesday</td>\n",
              "    </tr>\n",
              "  </tbody>\n",
              "</table>\n",
              "</div>\n",
              "      <button class=\"colab-df-convert\" onclick=\"convertToInteractive('df-933add1a-3afd-4b3b-8d95-3acf045e47b6')\"\n",
              "              title=\"Convert this dataframe to an interactive table.\"\n",
              "              style=\"display:none;\">\n",
              "\n",
              "  <svg xmlns=\"http://www.w3.org/2000/svg\" height=\"24px\"viewBox=\"0 0 24 24\"\n",
              "       width=\"24px\">\n",
              "    <path d=\"M0 0h24v24H0V0z\" fill=\"none\"/>\n",
              "    <path d=\"M18.56 5.44l.94 2.06.94-2.06 2.06-.94-2.06-.94-.94-2.06-.94 2.06-2.06.94zm-11 1L8.5 8.5l.94-2.06 2.06-.94-2.06-.94L8.5 2.5l-.94 2.06-2.06.94zm10 10l.94 2.06.94-2.06 2.06-.94-2.06-.94-.94-2.06-.94 2.06-2.06.94z\"/><path d=\"M17.41 7.96l-1.37-1.37c-.4-.4-.92-.59-1.43-.59-.52 0-1.04.2-1.43.59L10.3 9.45l-7.72 7.72c-.78.78-.78 2.05 0 2.83L4 21.41c.39.39.9.59 1.41.59.51 0 1.02-.2 1.41-.59l7.78-7.78 2.81-2.81c.8-.78.8-2.07 0-2.86zM5.41 20L4 18.59l7.72-7.72 1.47 1.35L5.41 20z\"/>\n",
              "  </svg>\n",
              "      </button>\n",
              "\n",
              "\n",
              "\n",
              "    <div id=\"df-fcb47e75-dfea-410f-a74a-51ae9845cfa1\">\n",
              "      <button class=\"colab-df-quickchart\" onclick=\"quickchart('df-fcb47e75-dfea-410f-a74a-51ae9845cfa1')\"\n",
              "              title=\"Suggest charts.\"\n",
              "              style=\"display:none;\">\n",
              "\n",
              "<svg xmlns=\"http://www.w3.org/2000/svg\" height=\"24px\"viewBox=\"0 0 24 24\"\n",
              "     width=\"24px\">\n",
              "    <g>\n",
              "        <path d=\"M19 3H5c-1.1 0-2 .9-2 2v14c0 1.1.9 2 2 2h14c1.1 0 2-.9 2-2V5c0-1.1-.9-2-2-2zM9 17H7v-7h2v7zm4 0h-2V7h2v10zm4 0h-2v-4h2v4z\"/>\n",
              "    </g>\n",
              "</svg>\n",
              "      </button>\n",
              "    </div>\n",
              "\n",
              "<style>\n",
              "  .colab-df-quickchart {\n",
              "    background-color: #E8F0FE;\n",
              "    border: none;\n",
              "    border-radius: 50%;\n",
              "    cursor: pointer;\n",
              "    display: none;\n",
              "    fill: #1967D2;\n",
              "    height: 32px;\n",
              "    padding: 0 0 0 0;\n",
              "    width: 32px;\n",
              "  }\n",
              "\n",
              "  .colab-df-quickchart:hover {\n",
              "    background-color: #E2EBFA;\n",
              "    box-shadow: 0px 1px 2px rgba(60, 64, 67, 0.3), 0px 1px 3px 1px rgba(60, 64, 67, 0.15);\n",
              "    fill: #174EA6;\n",
              "  }\n",
              "\n",
              "  [theme=dark] .colab-df-quickchart {\n",
              "    background-color: #3B4455;\n",
              "    fill: #D2E3FC;\n",
              "  }\n",
              "\n",
              "  [theme=dark] .colab-df-quickchart:hover {\n",
              "    background-color: #434B5C;\n",
              "    box-shadow: 0px 1px 3px 1px rgba(0, 0, 0, 0.15);\n",
              "    filter: drop-shadow(0px 1px 2px rgba(0, 0, 0, 0.3));\n",
              "    fill: #FFFFFF;\n",
              "  }\n",
              "</style>\n",
              "\n",
              "    <script>\n",
              "      async function quickchart(key) {\n",
              "        const containerElement = document.querySelector('#' + key);\n",
              "        const charts = await google.colab.kernel.invokeFunction(\n",
              "            'suggestCharts', [key], {});\n",
              "      }\n",
              "    </script>\n",
              "\n",
              "      <script>\n",
              "\n",
              "function displayQuickchartButton(domScope) {\n",
              "  let quickchartButtonEl =\n",
              "    domScope.querySelector('#df-fcb47e75-dfea-410f-a74a-51ae9845cfa1 button.colab-df-quickchart');\n",
              "  quickchartButtonEl.style.display =\n",
              "    google.colab.kernel.accessAllowed ? 'block' : 'none';\n",
              "}\n",
              "\n",
              "        displayQuickchartButton(document);\n",
              "      </script>\n",
              "      <style>\n",
              "    .colab-df-container {\n",
              "      display:flex;\n",
              "      flex-wrap:wrap;\n",
              "      gap: 12px;\n",
              "    }\n",
              "\n",
              "    .colab-df-convert {\n",
              "      background-color: #E8F0FE;\n",
              "      border: none;\n",
              "      border-radius: 50%;\n",
              "      cursor: pointer;\n",
              "      display: none;\n",
              "      fill: #1967D2;\n",
              "      height: 32px;\n",
              "      padding: 0 0 0 0;\n",
              "      width: 32px;\n",
              "    }\n",
              "\n",
              "    .colab-df-convert:hover {\n",
              "      background-color: #E2EBFA;\n",
              "      box-shadow: 0px 1px 2px rgba(60, 64, 67, 0.3), 0px 1px 3px 1px rgba(60, 64, 67, 0.15);\n",
              "      fill: #174EA6;\n",
              "    }\n",
              "\n",
              "    [theme=dark] .colab-df-convert {\n",
              "      background-color: #3B4455;\n",
              "      fill: #D2E3FC;\n",
              "    }\n",
              "\n",
              "    [theme=dark] .colab-df-convert:hover {\n",
              "      background-color: #434B5C;\n",
              "      box-shadow: 0px 1px 3px 1px rgba(0, 0, 0, 0.15);\n",
              "      filter: drop-shadow(0px 1px 2px rgba(0, 0, 0, 0.3));\n",
              "      fill: #FFFFFF;\n",
              "    }\n",
              "  </style>\n",
              "\n",
              "      <script>\n",
              "        const buttonEl =\n",
              "          document.querySelector('#df-933add1a-3afd-4b3b-8d95-3acf045e47b6 button.colab-df-convert');\n",
              "        buttonEl.style.display =\n",
              "          google.colab.kernel.accessAllowed ? 'block' : 'none';\n",
              "\n",
              "        async function convertToInteractive(key) {\n",
              "          const element = document.querySelector('#df-933add1a-3afd-4b3b-8d95-3acf045e47b6');\n",
              "          const dataTable =\n",
              "            await google.colab.kernel.invokeFunction('convertToInteractive',\n",
              "                                                     [key], {});\n",
              "          if (!dataTable) return;\n",
              "\n",
              "          const docLinkHtml = 'Like what you see? Visit the ' +\n",
              "            '<a target=\"_blank\" href=https://colab.research.google.com/notebooks/data_table.ipynb>data table notebook</a>'\n",
              "            + ' to learn more about interactive tables.';\n",
              "          element.innerHTML = '';\n",
              "          dataTable['output_type'] = 'display_data';\n",
              "          await google.colab.output.renderOutput(dataTable, element);\n",
              "          const docLink = document.createElement('div');\n",
              "          docLink.innerHTML = docLinkHtml;\n",
              "          element.appendChild(docLink);\n",
              "        }\n",
              "      </script>\n",
              "    </div>\n",
              "  </div>\n"
            ]
          },
          "metadata": {},
          "execution_count": 229
        }
      ]
    },
    {
      "cell_type": "markdown",
      "source": [
        "¿Qué día de la semana suelo ver más series?"
      ],
      "metadata": {
        "id": "AEMCBNDQUoDF"
      }
    },
    {
      "cell_type": "code",
      "source": [
        "df.loc[df.tipo == 'serie', 'dia_semana'].value_counts().plot(kind = 'bar');"
      ],
      "metadata": {
        "id": "L5Np9VCYPjJE",
        "colab": {
          "base_uri": "https://localhost:8080/",
          "height": 496
        },
        "outputId": "a93ea6fa-d7db-42b7-f84b-8c46d986fbc8"
      },
      "execution_count": 230,
      "outputs": [
        {
          "output_type": "display_data",
          "data": {
            "text/plain": [
              "<Figure size 640x480 with 1 Axes>"
            ],
            "image/png": "[encoded data removed]"
          },
          "metadata": {}
        }
      ]
    },
    {
      "cell_type": "markdown",
      "source": [
        "¿Existen diferencias en Netflix entre series y películas?"
      ],
      "metadata": {
        "id": "ahZ3YG39Ut5-"
      }
    },
    {
      "cell_type": "code",
      "source": [
        "import seaborn as sns\n",
        "\n",
        "sns.countplot(data = df, x = 'dia_semana', hue = 'tipo', palette= 'pastel');"
      ],
      "metadata": {
        "id": "gLVUFwFOPvgh",
        "colab": {
          "base_uri": "https://localhost:8080/",
          "height": 450
        },
        "outputId": "41fc804e-63d0-4b45-e0c4-f427c8bc6d0c"
      },
      "execution_count": 223,
      "outputs": [
        {
          "output_type": "display_data",
          "data": {
            "text/plain": [
              "<Figure size 640x480 with 1 Axes>"
            ],
            "image/png": "[encoded data removed]"
          },
          "metadata": {}
        }
      ]
    },
    {
      "cell_type": "markdown",
      "source": [
        "¿El consumo a lo largo del año es constante o hay meses que consumo más?"
      ],
      "metadata": {
        "id": "AX1_JZeMU4wE"
      }
    },
    {
      "cell_type": "code",
      "source": [
        "df.loc[df.año < 2023].mes.value_counts().plot.bar();"
      ],
      "metadata": {
        "id": "yaivBvGaP1OR",
        "colab": {
          "base_uri": "https://localhost:8080/",
          "height": 493
        },
        "outputId": "08ecab89-2da9-4609-9ff8-aeda0bbb899f"
      },
      "execution_count": null,
      "outputs": [
        {
          "output_type": "display_data",
          "data": {
            "text/plain": [
              "<Figure size 640x480 with 1 Axes>"
            ],
            "image/png": "[encoded data removed]"
          },
          "metadata": {}
        }
      ]
    },
    {
      "cell_type": "markdown",
      "source": [
        "¿Afectó el confinamiento a la cantidad de uso que hice de Netflix?"
      ],
      "metadata": {
        "id": "yBs-4ZokU8Mj"
      }
    },
    {
      "cell_type": "code",
      "source": [
        "df.año.value_counts().plot.bar();"
      ],
      "metadata": {
        "id": "Vw4ZGWl3QFVQ",
        "colab": {
          "base_uri": "https://localhost:8080/",
          "height": 455
        },
        "outputId": "f7ca2f59-0a2a-410c-eb74-b212e3c8596a"
      },
      "execution_count": null,
      "outputs": [
        {
          "output_type": "display_data",
          "data": {
            "text/plain": [
              "<Figure size 640x480 with 1 Axes>"
            ],
            "image/png": "[encoded data removed]"
          },
          "metadata": {}
        }
      ]
    }
  ]
}